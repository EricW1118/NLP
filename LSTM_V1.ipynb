{
  "cells": [
    {
      "cell_type": "markdown",
      "metadata": {
        "id": "view-in-github",
        "colab_type": "text"
      },
      "source": [
        "<a href=\"https://colab.research.google.com/github/EricW1118/NLP/blob/main/LSTM_V1.ipynb\" target=\"_parent\"><img src=\"https://colab.research.google.com/assets/colab-badge.svg\" alt=\"Open In Colab\"/></a>"
      ]
    },
    {
      "cell_type": "code",
      "execution_count": null,
      "id": "e4c2c427",
      "metadata": {
        "id": "e4c2c427"
      },
      "outputs": [],
      "source": [
        "# Install libs needed\n",
        "!pip3 install torch \n",
        "!pip3 install torchvision\n",
        "!pip3 install torchtext\n",
        "!pip3 install pandas\n",
        "!pip3 install nltk\n",
        "!pip3 install -U scikit-learn scipy matplotlib\n",
        "!pip3 install spacy\n",
        "!pip3 install seaborn\n",
        "!pip3 install keras_preprocessing"
      ]
    },
    {
      "cell_type": "code",
      "execution_count": null,
      "id": "32e80369",
      "metadata": {
        "id": "32e80369"
      },
      "outputs": [],
      "source": [
        "# Import libs\n",
        "import pandas as pd\n",
        "import numpy as np\n",
        "import torch\n",
        "import torch.nn as nn\n",
        "import re\n",
        "from torch.utils.data import Dataset, DataLoader\n",
        "import matplotlib.pyplot as plt\n",
        "import nltk\n",
        "from nltk.corpus import stopwords\n",
        "from sklearn.model_selection import train_test_split\n",
        "import string\n",
        "import seaborn as sns\n",
        "from collections import Counter\n",
        "from torch.utils.data import TensorDataset, DataLoader"
      ]
    },
    {
      "cell_type": "code",
      "execution_count": null,
      "id": "be9872b4",
      "metadata": {
        "id": "be9872b4"
      },
      "outputs": [],
      "source": [
        "from gensim.parsing.preprocessing import remove_stopwords\n",
        "# Stopwords removal\n",
        "def stopword_removal(row):\n",
        "    text = row['text']\n",
        "    row['text'] = remove_stopwords(text)\n",
        "    return row\n",
        "\n",
        "# After stopwords and puntuations removal, there may be some empty row in text, replace this row with np.naN\n",
        "# Then we can apply dropna to eliminate these rows\n",
        "def removeEmpty(row):\n",
        "    text = str(row['text'])\n",
        "    if text.isspace() or len(text) <= 0:\n",
        "        row['text'] = np.NaN\n",
        "    return row\n",
        "  \n",
        "# Load the csv from the path given in the parameter\n",
        "# Apply different processing methods defined above\n",
        "def load_csv(file_path):\n",
        "    df = pd.read_csv(file_path)\n",
        "    df.columns = [\"id\",\"title\",\"text\",\"label\"]\n",
        "    df.drop(labels=['id','title'], axis='columns', inplace=True)\n",
        "    df['text'] = df['text'].str.lower().str.replace('[^\\w\\s]',' ').str.replace('\\s\\s+', ' ')\n",
        "    df.dropna(subset = [\"text\"], inplace=True)\n",
        "    df = df.apply(stopword_removal, axis=1)\n",
        "    df = df.apply(removeEmpty, axis=1)\n",
        "    df.dropna(subset = [\"text\"], inplace=True)\n",
        "    return df"
      ]
    },
    {
      "cell_type": "code",
      "execution_count": null,
      "id": "bd615fda",
      "metadata": {
        "colab": {
          "base_uri": "https://localhost:8080/"
        },
        "id": "bd615fda",
        "outputId": "d7aeb7b7-6279-4e57-c1eb-f00195af8828"
      },
      "outputs": [
        {
          "output_type": "stream",
          "name": "stdout",
          "text": [
            "Mounted at /content/gdrive\n"
          ]
        }
      ],
      "source": [
        "# Only if you are using Google Colab, you need to mount the Google drive\n",
        "from google.colab import drive\n",
        "drive.mount('/content/gdrive', force_remount=True)"
      ]
    },
    {
      "cell_type": "code",
      "execution_count": null,
      "id": "e5c666c3",
      "metadata": {
        "colab": {
          "base_uri": "https://localhost:8080/"
        },
        "id": "e5c666c3",
        "outputId": "0525b008-a40c-448b-8bc6-a62411ae3715"
      },
      "outputs": [
        {
          "output_type": "stream",
          "name": "stderr",
          "text": [
            "<ipython-input-3-33c76519a373>:22: FutureWarning: The default value of regex will change from True to False in a future version.\n",
            "  df['text'] = df['text'].str.lower().str.replace('[^\\w\\s]',' ').str.replace('\\s\\s+', ' ')\n"
          ]
        }
      ],
      "source": [
        "# Use the function defined above to load the csv data\n",
        "# df = load_csv('WELFake_Dataset.csv')\n",
        "df = load_csv('/content/gdrive/My Drive/NLP/WELFake_Dataset.csv')"
      ]
    },
    {
      "cell_type": "code",
      "source": [
        "# Print the data summary \n",
        "df.info()\n",
        "\n",
        "# Print some rows of the dataset\n",
        "print(df)"
      ],
      "metadata": {
        "colab": {
          "base_uri": "https://localhost:8080/"
        },
        "id": "DkFBRa5LJAoq",
        "outputId": "ea138c3c-54e1-42e6-c0a4-ed20ab094e15"
      },
      "id": "DkFBRa5LJAoq",
      "execution_count": null,
      "outputs": [
        {
          "output_type": "stream",
          "name": "stdout",
          "text": [
            "<class 'pandas.core.frame.DataFrame'>\n",
            "Int64Index: 71349 entries, 0 to 72133\n",
            "Data columns (total 2 columns):\n",
            " #   Column  Non-Null Count  Dtype \n",
            "---  ------  --------------  ----- \n",
            " 0   text    71349 non-null  object\n",
            " 1   label   71349 non-null  int64 \n",
            "dtypes: int64(1), object(1)\n",
            "memory usage: 1.6+ MB\n",
            "                                                    text  label\n",
            "0      comment expected barack obama members fyf911 f...      1\n",
            "1                                     post votes hillary      1\n",
            "2      demonstrators gathered night exercising consti...      1\n",
            "3      dozen politically active pastors came private ...      0\n",
            "4      rs 28 sarmat missile dubbed satan 2 replace ss...      1\n",
            "...                                                  ...    ...\n",
            "72129  washington reuters hackers believed working ru...      0\n",
            "72130  know fantasyland republicans questioned citize...      1\n",
            "72131  migrants refuse leave train refugee camp hunga...      0\n",
            "72132  mexico city reuters donald trump s combative s...      0\n",
            "72133  goldman sachs endorses hillary clinton preside...      1\n",
            "\n",
            "[71349 rows x 2 columns]\n"
          ]
        }
      ]
    },
    {
      "cell_type": "code",
      "source": [
        "MAX_SEQUENCE_LENGTH = 700\n",
        "MAX_NUM_WORDS = 1000\n",
        "EMBEDDING_DIM = 64\n",
        "\n",
        "# vectorize the text samples into a 2D integer tensor \n",
        "from keras.preprocessing.text import Tokenizer\n",
        "from keras_preprocessing.sequence import pad_sequences\n",
        "\n",
        "\n",
        "# tokenizing sentences into words \n",
        "tokenizer = Tokenizer(num_words=MAX_NUM_WORDS)\n",
        "# using fit_on_texts method assigning values to particular words\n",
        "tokenizer.fit_on_texts(df['text'])\n",
        "# texts_to_sequences method is used to give particular integer values to word\n",
        "sequences = tokenizer.texts_to_sequences(df['text'])\n",
        "\n",
        "# calculating word_index\n",
        "word_index = tokenizer.word_index\n",
        "num_words = min(MAX_NUM_WORDS, len(word_index)) + 1\n",
        "# padding data to the same length for each samples\n",
        "data = pad_sequences(sequences, \n",
        "                     maxlen=MAX_SEQUENCE_LENGTH, \n",
        "                     padding='pre', \n",
        "                     truncating='pre')\n",
        "\n",
        "print('Found %s unique tokens.' % len(word_index))\n",
        "print('Shape of data tensor:', data.shape)\n",
        "print('Shape of label tensor:', df['label'].shape)"
      ],
      "metadata": {
        "colab": {
          "base_uri": "https://localhost:8080/"
        },
        "id": "WF0TuVnDExnd",
        "outputId": "afcea67f-0c07-4706-e959-12843c64cb9e"
      },
      "id": "WF0TuVnDExnd",
      "execution_count": null,
      "outputs": [
        {
          "output_type": "stream",
          "name": "stdout",
          "text": [
            "Found 242504 unique tokens.\n",
            "Shape of data tensor: (71349, 700)\n",
            "Shape of label tensor: (71349,)\n"
          ]
        }
      ]
    },
    {
      "cell_type": "code",
      "execution_count": null,
      "id": "0b48863a",
      "metadata": {
        "colab": {
          "base_uri": "https://localhost:8080/",
          "height": 430
        },
        "id": "0b48863a",
        "outputId": "00586dc4-7582-46d1-c46c-f4b25f016940"
      },
      "outputs": [
        {
          "output_type": "display_data",
          "data": {
            "text/plain": [
              "<Figure size 640x480 with 1 Axes>"
            ],
            "image/png": "[encoded data removed]"
          },
          "metadata": {}
        }
      ],
      "source": [
        "# Check if the data is balanced between all the classes\n",
        "data_count = df['label'].value_counts()\n",
        "sns.barplot(x=np.array([1,0]),y=data_count.values)\n",
        "plt.show()"
      ]
    },
    {
      "cell_type": "code",
      "execution_count": null,
      "id": "1e794407",
      "metadata": {
        "colab": {
          "base_uri": "https://localhost:8080/",
          "height": 591
        },
        "id": "1e794407",
        "outputId": "f8fa4366-a89c-4343-8ae9-acb6729d454d"
      },
      "outputs": [
        {
          "output_type": "display_data",
          "data": {
            "text/plain": [
              "<Figure size 640x480 with 1 Axes>"
            ],
            "image/png": "[encoded data removed]"
          },
          "metadata": {}
        },
        {
          "output_type": "execute_result",
          "data": {
            "text/plain": [
              "count     71349.000000\n",
              "mean       2166.011717\n",
              "std        2399.967844\n",
              "min           1.000000\n",
              "25%         940.000000\n",
              "50%        1617.000000\n",
              "75%        2702.000000\n",
              "max      138188.000000\n",
              "dtype: float64"
            ]
          },
          "metadata": {},
          "execution_count": 11
        }
      ],
      "source": [
        "# Plot the length distribution of sentences of the dataset\n",
        "rev_len = [len(i) for i in  df['text']]\n",
        "pd.Series(rev_len).hist()\n",
        "plt.show()\n",
        "\n",
        "# Summarize the sentence length distribution\n",
        "pd.Series(rev_len).describe()"
      ]
    },
    {
      "cell_type": "code",
      "execution_count": null,
      "id": "7a7e1de2",
      "metadata": {
        "colab": {
          "base_uri": "https://localhost:8080/"
        },
        "id": "7a7e1de2",
        "outputId": "e977cb97-1dd7-4a6b-bdd4-0217ea02999c"
      },
      "outputs": [
        {
          "output_type": "stream",
          "name": "stdout",
          "text": [
            "length of sentences with label zero : 35026\n",
            "length of sentences with label one: 36323\n",
            "---------------------------------------------------------------\n",
            "length of label zero : 35026\n",
            "length of label one: 36323\n"
          ]
        }
      ],
      "source": [
        "# Calculate the number of rows with lable 1 and 0\n",
        "df_zero_X, df_one_X= data[df['label'] == 0], data[df['label'] ==1]\n",
        "df_zero_y, df_one_y = np.array(df[df['label'] == 0]['label']), np.array(df[df['label'] == 1]['label'])\n",
        "\n",
        "print('length of sentences with label zero : %4d' % (len(df_zero_X)))\n",
        "print('length of sentences with label one: %4d' % (len(df_one_X)))\n",
        "\n",
        "print('---------------------------------------------------------------')\n",
        "print('length of label zero : %4d' % (len(df_zero_y)))\n",
        "print('length of label one: %4d' % (len(df_one_y)))"
      ]
    },
    {
      "cell_type": "code",
      "execution_count": null,
      "id": "94889074",
      "metadata": {
        "colab": {
          "base_uri": "https://localhost:8080/"
        },
        "id": "94889074",
        "outputId": "9a31aba1-48d2-40fe-bfb2-88c4e8a10c45"
      },
      "outputs": [
        {
          "output_type": "stream",
          "name": "stdout",
          "text": [
            "length of each train set: 24518 \n"
          ]
        }
      ],
      "source": [
        "# Calculate 70% of the number of class 0 and class 1\n",
        "# Then take the smaller one \n",
        "train_length = int(min(len(df_zero_X) * 0.7, len(df_one_X) * 0.7))\n",
        "print('length of each train set: %4d ' % (train_length))\n",
        "\n",
        "# Randomly pick the number calculated above of rows from class 1 and class 0\n",
        "# This operation makes sure we take the same number of rows from each class\n",
        "# Make sure our training dataset is balanced\n",
        "zero_train, zero_test, zero_train_y, zero_test_y = train_test_split(df_zero_X, df_zero_y, train_size=train_length, shuffle=True, random_state=36)\n",
        "one_train, one_test, one_train_y, one_test_y = train_test_split(df_one_X,df_one_y, train_size=train_length, shuffle=True, random_state=36)\n",
        "\n",
        "train_X, train_y = np.concatenate([zero_train,one_train]), np.concatenate([zero_train_y,one_train_y])\n",
        "test_X, test_y = np.concatenate([zero_test,one_test]), np.concatenate([zero_test_y,one_test_y])\n"
      ]
    },
    {
      "cell_type": "code",
      "source": [
        "# create Tensor datasets\n",
        "train_data = TensorDataset(torch.from_numpy(train_X), torch.from_numpy(train_y))\n",
        "valid_data = TensorDataset(torch.from_numpy(test_X), torch.from_numpy(test_y))\n",
        "\n",
        "# dataloaders \n",
        "batch_size = 82\n",
        "\n",
        "# make sure to SHUFFLE your data\n",
        "train_loader = DataLoader(train_data, shuffle=True, batch_size=batch_size)\n",
        "valid_loader = DataLoader(valid_data, shuffle=False, batch_size=batch_size)"
      ],
      "metadata": {
        "id": "mk1Uhb-owsG_"
      },
      "id": "mk1Uhb-owsG_",
      "execution_count": null,
      "outputs": []
    },
    {
      "cell_type": "code",
      "source": [
        "# is_cuda = not torch.cuda.is_available\n",
        "is_cuda = torch.cuda.is_available\n",
        "# If we have a GPU available, we'll set our device to GPU. We'll use this device variable later in our code.\n",
        "if is_cuda:\n",
        "    device = torch.device(\"cuda\")\n",
        "\n",
        "    print(\"GPU is available\")\n",
        "    \n",
        "else:\n",
        "    device = torch.device(\"cpu\")\n",
        "    print(\"GPU is not available, CPU used\")"
      ],
      "metadata": {
        "colab": {
          "base_uri": "https://localhost:8080/"
        },
        "id": "IvcLJbPxKzcS",
        "outputId": "4f9ab5d4-987d-44a9-8aec-81d7a21a7e97"
      },
      "id": "IvcLJbPxKzcS",
      "execution_count": null,
      "outputs": [
        {
          "output_type": "stream",
          "name": "stdout",
          "text": [
            "GPU is available\n"
          ]
        }
      ]
    },
    {
      "cell_type": "code",
      "execution_count": null,
      "id": "f802e6ce",
      "metadata": {
        "id": "f802e6ce"
      },
      "outputs": [],
      "source": [
        "class LSTMClassifier(nn.Module):\n",
        "    def __init__(self, vocab_size, embedding_dim, hidden_size, num_layers, num_classes):\n",
        "        super(LSTMClassifier, self).__init__()\n",
        "        self.embedding = nn.Embedding(vocab_size, embedding_dim)\n",
        "        self.hidden_size = hidden_size\n",
        "        self.num_layers = num_layers\n",
        "        self.lstm = nn.LSTM(embedding_dim, hidden_size, num_layers, bidirectional = False, batch_first=True)\n",
        "        self.dropout = nn.Dropout(0.3)\n",
        "        self.fc = nn.Linear(hidden_size, num_classes)\n",
        "        self.sig = nn.Sigmoid()\n",
        "\n",
        "    def init_hidden(self, batch_size):\n",
        "        ''' Initializes hidden state '''\n",
        "        # Create two new tensors with sizes n_layers x batch_size x hidden_dim,\n",
        "        # initialized to zero, for hidden state and cell state of LSTM\n",
        "        h0 = torch.zeros((self.num_layers,batch_size,self.hidden_size)).to(device)\n",
        "        c0 = torch.zeros((self.num_layers,batch_size,self.hidden_size)).to(device)\n",
        "        hidden = (h0,c0)\n",
        "        return hidden\n",
        "        \n",
        "    def forward(self, x, hidden):\n",
        "        batch_size = x.size(0)\n",
        "\n",
        "        embedded = self.embedding(x)\n",
        "\n",
        "        out, hidden = self.lstm(embedded, hidden)\n",
        "        \n",
        "        # Extract the last timestep's output\n",
        "        out = out[:, -1, :]\n",
        "\n",
        "        out = self.dropout(out)\n",
        "\n",
        "        out = self.fc(out)\n",
        "\n",
        "        out = self.sig(out)\n",
        "\n",
        "         # Reshape to be batch_size first\n",
        "        out = out.view(batch_size, -1)\n",
        "\n",
        "        out = out[:, -1] # get last batch of labels\n",
        "      \n",
        "        return out, hidden\n"
      ]
    },
    {
      "cell_type": "code",
      "execution_count": null,
      "id": "f6d79caf",
      "metadata": {
        "id": "f6d79caf",
        "outputId": "04b6a4ac-6a0e-43c6-ac3d-aa45be448eec",
        "colab": {
          "base_uri": "https://localhost:8080/"
        }
      },
      "outputs": [
        {
          "output_type": "execute_result",
          "data": {
            "text/plain": [
              "LSTMClassifier(\n",
              "  (embedding): Embedding(1001, 70)\n",
              "  (lstm): LSTM(70, 128, num_layers=10, batch_first=True)\n",
              "  (dropout): Dropout(p=0.3, inplace=False)\n",
              "  (fc): Linear(in_features=128, out_features=1, bias=True)\n",
              "  (sig): Sigmoid()\n",
              ")"
            ]
          },
          "metadata": {},
          "execution_count": 34
        }
      ],
      "source": [
        "# Define the model\n",
        "embedding_dim = 70\n",
        "num_classes = 1\n",
        "vocab_size = MAX_NUM_WORDS + 1 #extra 1 for padding\n",
        "hidden_size = 128\n",
        "num_layers = 10\n",
        "\n",
        "# Create the model\n",
        "model = LSTMClassifier(vocab_size, embedding_dim, hidden_size, num_layers, num_classes)\n",
        "model.to(device)"
      ]
    },
    {
      "cell_type": "code",
      "source": [
        "# Count the number of parameters\n",
        "total_params = sum(p.numel() for p in model.parameters())\n",
        "print(\"Total parameters:\", total_params)"
      ],
      "metadata": {
        "colab": {
          "base_uri": "https://localhost:8080/"
        },
        "id": "BXkXRjW0bTNv",
        "outputId": "8228f775-cedc-4b76-af02-4dc49130b09a"
      },
      "id": "BXkXRjW0bTNv",
      "execution_count": null,
      "outputs": [
        {
          "output_type": "stream",
          "name": "stdout",
          "text": [
            "Total parameters: 1361463\n"
          ]
        }
      ]
    },
    {
      "cell_type": "code",
      "execution_count": null,
      "id": "6ec13e62",
      "metadata": {
        "id": "6ec13e62",
        "outputId": "27f43147-32fd-4ec3-cf92-9457bfa8fbed",
        "colab": {
          "base_uri": "https://localhost:8080/",
          "height": 371
        }
      },
      "outputs": [
        {
          "output_type": "error",
          "ename": "TypeError",
          "evalue": "ignored",
          "traceback": [
            "\u001b[0;31m---------------------------------------------------------------------------\u001b[0m",
            "\u001b[0;31mTypeError\u001b[0m                                 Traceback (most recent call last)",
            "\u001b[0;32m<ipython-input-36-2da86ad40ae9>\u001b[0m in \u001b[0;36m<cell line: 33>\u001b[0;34m()\u001b[0m\n\u001b[1;32m     56\u001b[0m         \u001b[0moptimizer\u001b[0m\u001b[0;34m.\u001b[0m\u001b[0mstep\u001b[0m\u001b[0;34m(\u001b[0m\u001b[0;34m)\u001b[0m\u001b[0;34m\u001b[0m\u001b[0;34m\u001b[0m\u001b[0m\n\u001b[1;32m     57\u001b[0m     \u001b[0;31m# Print the loss for monitoring the training progress\u001b[0m\u001b[0;34m\u001b[0m\u001b[0;34m\u001b[0m\u001b[0m\n\u001b[0;32m---> 58\u001b[0;31m     \u001b[0mval_acc\u001b[0m \u001b[0;34m=\u001b[0m \u001b[0macc_of\u001b[0m\u001b[0;34m(\u001b[0m\u001b[0mmodel\u001b[0m\u001b[0;34m,\u001b[0m \u001b[0mvalid_loader\u001b[0m\u001b[0;34m)\u001b[0m\u001b[0;34m\u001b[0m\u001b[0;34m\u001b[0m\u001b[0m\n\u001b[0m\u001b[1;32m     59\u001b[0m     \u001b[0mprint\u001b[0m\u001b[0;34m(\u001b[0m\u001b[0;34m'Epoch: %5d, Loss: %.5f, train_acc: %.5f, val_acc: %.5f'\u001b[0m \u001b[0;34m%\u001b[0m \u001b[0;34m(\u001b[0m\u001b[0mepoch\u001b[0m \u001b[0;34m+\u001b[0m \u001b[0;36m1\u001b[0m\u001b[0;34m,\u001b[0m \u001b[0mloss\u001b[0m\u001b[0;34m.\u001b[0m\u001b[0mitem\u001b[0m\u001b[0;34m(\u001b[0m\u001b[0;34m)\u001b[0m\u001b[0;34m,\u001b[0m \u001b[0mtrain_acc\u001b[0m \u001b[0;34m/\u001b[0m \u001b[0mnum_sample\u001b[0m\u001b[0;34m,\u001b[0m \u001b[0mval_acc\u001b[0m\u001b[0;34m)\u001b[0m\u001b[0;34m)\u001b[0m\u001b[0;34m\u001b[0m\u001b[0;34m\u001b[0m\u001b[0m\n",
            "\u001b[0;32m<ipython-input-36-2da86ad40ae9>\u001b[0m in \u001b[0;36macc_of\u001b[0;34m(model, dataloader)\u001b[0m\n\u001b[1;32m     17\u001b[0m       \u001b[0mX\u001b[0m\u001b[0;34m,\u001b[0m \u001b[0my\u001b[0m \u001b[0;34m=\u001b[0m \u001b[0mX\u001b[0m\u001b[0;34m.\u001b[0m\u001b[0mto\u001b[0m\u001b[0;34m(\u001b[0m\u001b[0mdevice\u001b[0m\u001b[0;34m)\u001b[0m\u001b[0;34m,\u001b[0m \u001b[0my\u001b[0m\u001b[0;34m.\u001b[0m\u001b[0mto\u001b[0m\u001b[0;34m(\u001b[0m\u001b[0mdevice\u001b[0m\u001b[0;34m)\u001b[0m\u001b[0;34m\u001b[0m\u001b[0;34m\u001b[0m\u001b[0m\n\u001b[1;32m     18\u001b[0m       \u001b[0;31m# print(X.shape, y.shape)\u001b[0m\u001b[0;34m\u001b[0m\u001b[0;34m\u001b[0m\u001b[0m\n\u001b[0;32m---> 19\u001b[0;31m       \u001b[0moutputs\u001b[0m \u001b[0;34m=\u001b[0m \u001b[0mmodel\u001b[0m\u001b[0;34m(\u001b[0m\u001b[0mX\u001b[0m\u001b[0;34m)\u001b[0m\u001b[0;34m\u001b[0m\u001b[0;34m\u001b[0m\u001b[0m\n\u001b[0m\u001b[1;32m     20\u001b[0m       \u001b[0mbatch_acc\u001b[0m \u001b[0;34m=\u001b[0m \u001b[0mnum_of_acc\u001b[0m\u001b[0;34m(\u001b[0m\u001b[0moutputs\u001b[0m\u001b[0;34m,\u001b[0m\u001b[0my\u001b[0m\u001b[0;34m)\u001b[0m\u001b[0;34m\u001b[0m\u001b[0;34m\u001b[0m\u001b[0m\n\u001b[1;32m     21\u001b[0m       \u001b[0maccnum\u001b[0m \u001b[0;34m+=\u001b[0m \u001b[0mbatch_acc\u001b[0m\u001b[0;34m\u001b[0m\u001b[0;34m\u001b[0m\u001b[0m\n",
            "\u001b[0;32m/usr/local/lib/python3.10/dist-packages/torch/nn/modules/module.py\u001b[0m in \u001b[0;36m_call_impl\u001b[0;34m(self, *args, **kwargs)\u001b[0m\n\u001b[1;32m   1499\u001b[0m                 \u001b[0;32mor\u001b[0m \u001b[0m_global_backward_pre_hooks\u001b[0m \u001b[0;32mor\u001b[0m \u001b[0m_global_backward_hooks\u001b[0m\u001b[0;34m\u001b[0m\u001b[0;34m\u001b[0m\u001b[0m\n\u001b[1;32m   1500\u001b[0m                 or _global_forward_hooks or _global_forward_pre_hooks):\n\u001b[0;32m-> 1501\u001b[0;31m             \u001b[0;32mreturn\u001b[0m \u001b[0mforward_call\u001b[0m\u001b[0;34m(\u001b[0m\u001b[0;34m*\u001b[0m\u001b[0margs\u001b[0m\u001b[0;34m,\u001b[0m \u001b[0;34m**\u001b[0m\u001b[0mkwargs\u001b[0m\u001b[0;34m)\u001b[0m\u001b[0;34m\u001b[0m\u001b[0;34m\u001b[0m\u001b[0m\n\u001b[0m\u001b[1;32m   1502\u001b[0m         \u001b[0;31m# Do not call functions when jit is used\u001b[0m\u001b[0;34m\u001b[0m\u001b[0;34m\u001b[0m\u001b[0m\n\u001b[1;32m   1503\u001b[0m         \u001b[0mfull_backward_hooks\u001b[0m\u001b[0;34m,\u001b[0m \u001b[0mnon_full_backward_hooks\u001b[0m \u001b[0;34m=\u001b[0m \u001b[0;34m[\u001b[0m\u001b[0;34m]\u001b[0m\u001b[0;34m,\u001b[0m \u001b[0;34m[\u001b[0m\u001b[0;34m]\u001b[0m\u001b[0;34m\u001b[0m\u001b[0;34m\u001b[0m\u001b[0m\n",
            "\u001b[0;31mTypeError\u001b[0m: LSTMClassifier.forward() missing 1 required positional argument: 'hidden'"
          ]
        }
      ],
      "source": [
        "import torch.optim as optim\n",
        "\n",
        "# function to predict accuracy\n",
        "def num_of_acc(pred,label):\n",
        "    # print(predicted.shape, label.shape)\n",
        "    # pred = torch.round(pred.squeeze())\n",
        "    # return torch.sum(ropredicted == label.squeeze()).item()\n",
        "    pred = torch.round(pred.squeeze())\n",
        "    return torch.sum(pred == label.squeeze()).item()\n",
        "\n",
        "def acc_of(model,dataloader):\n",
        "    model.eval()\n",
        "    num_sample = 0\n",
        "    accnum = 0\n",
        "    for X, y in dataloader:\n",
        "      num_sample += len(X)\n",
        "      X, y = X.to(device), y.to(device)\n",
        "      # print(X.shape, y.shape)\n",
        "      outputs = model(X)\n",
        "      batch_acc = num_of_acc(outputs,y)\n",
        "      accnum += batch_acc\n",
        "    return (accnum / num_sample)\n",
        "\n",
        "\n",
        "# criterion = nn.CrossEntropyLoss()  # Assuming your classification task has multiple classes\n",
        "criterion = nn.BCELoss()\n",
        "# criterion = nn.MultiMarginLoss()\n",
        "# optimizer = optim.Adam(model.parameters(), lr=0.00003)  # Adjust the learning rate as needed\n",
        "num_epochs = 100  # Define the number of training epochs\n",
        "optimizer = optim.NAdam(model.parameters(), lr=0.001) \n",
        "clip = 5\n",
        "\n",
        "for epoch in range(num_epochs):\n",
        "    # Set the model to training mode\n",
        "    model.train()\n",
        "    train_acc = 0.0\n",
        "    num_sample = 0\n",
        "    hidden = model.init_hidden(train_loader.batch_size)\n",
        "    for i ,(X, y) in enumerate(train_loader):\n",
        "        num_sample += len(X)\n",
        "        X, y = X.to(device), y.to(device)\n",
        "\n",
        "        hidden = tuple([each.data for each in hidden])\n",
        "\n",
        "        # Zero the gradients\n",
        "        optimizer.zero_grad()\n",
        "        # Perform forward pass\n",
        "        outputs, hidden = model(X, hidden)\n",
        "        # print(outputs.shape, y.shape)\n",
        "        batch_acc = num_of_acc(outputs,y)\n",
        "        train_acc += batch_acc\n",
        "        loss = criterion(outputs.squeeze(), y.float())\n",
        "        # Perform backward pass\n",
        "        loss.backward()\n",
        "        nn.utils.clip_grad_norm_(model.parameters(), clip)\n",
        "        optimizer.step()\n",
        "    # Print the loss for monitoring the training progress\n",
        "    val_acc = acc_of(model, valid_loader)\n",
        "    print('Epoch: %5d, Loss: %.5f, train_acc: %.5f, val_acc: %.5f' % (epoch + 1, loss.item(), train_acc / num_sample, val_acc))"
      ]
    },
    {
      "cell_type": "code",
      "source": [
        "import sklearn.metrics as metrics\n",
        "from sklearn.metrics import roc_auc_score\n",
        "def plot_auc_roc(model,valid_loader, version='title', threshold=0.5):\n",
        "    y_pred = []\n",
        "    y_true = []\n",
        "    model.eval()\n",
        "    with torch.no_grad():\n",
        "      for inputs, labels in valid_loader :\n",
        "            inputs = inputs.to(device)\n",
        "            output = model(inputs)\n",
        "\n",
        "            output = (output > threshold).int()\n",
        "            _, output = torch.max(output, dim = 1)\n",
        "            # print(output)\n",
        "            y_pred.extend(output.tolist())\n",
        "            y_true.extend(labels.tolist())\n",
        "    \n",
        "    fpr, tpr, threshold = metrics.roc_curve(y_true, y_pred)\n",
        "    roc_auc = metrics.auc(fpr, tpr)\n",
        "    \n",
        "    print('AUC ROC : %f ' % (roc_auc))\n",
        "    print('----------------------------------------------------------')\n",
        "    \n",
        "    plt.title('AUC ROC Curve')\n",
        "    plt.plot(fpr, tpr, 'b', label = 'AUC = %0.2f' % roc_auc)\n",
        "    plt.legend(loc = 'lower right')\n",
        "    plt.plot([0, 1], [0, 1],'r--')\n",
        "    plt.xlim([0, 1])\n",
        "    plt.ylim([0, 1])\n",
        "    plt.ylabel('True Positive Rate')\n",
        "    plt.xlabel('False Positive Rate')\n",
        "    plt.show()\n",
        "  \n",
        "plot_auc_roc(model, train_loader) \n",
        "\n",
        "plot_auc_roc(model, valid_loader) "
      ],
      "metadata": {
        "id": "Fpyfgm8Ctq8L"
      },
      "id": "Fpyfgm8Ctq8L",
      "execution_count": null,
      "outputs": []
    }
  ],
  "metadata": {
    "colab": {
      "gpuType": "T4",
      "provenance": [],
      "include_colab_link": true
    },
    "kernelspec": {
      "display_name": "Python 3",
      "name": "python3"
    },
    "language_info": {
      "codemirror_mode": {
        "name": "ipython",
        "version": 3
      },
      "file_extension": ".py",
      "mimetype": "text/x-python",
      "name": "python",
      "nbconvert_exporter": "python",
      "pygments_lexer": "ipython3",
      "version": "3.11.2"
    },
    "accelerator": "GPU"
  },
  "nbformat": 4,
  "nbformat_minor": 5
}